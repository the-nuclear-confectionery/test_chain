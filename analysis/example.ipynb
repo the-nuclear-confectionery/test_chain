{
 "cells": [
  {
   "cell_type": "code",
   "execution_count": 16,
   "id": "23cd441f-b054-4ee0-902a-18f3d45192e6",
   "metadata": {
    "tags": []
   },
   "outputs": [],
   "source": [
    "import uproot\n",
    "import os\n",
    "import numpy as np\n",
    "import matplotlib.pyplot as plt"
   ]
  },
  {
   "cell_type": "code",
   "execution_count": 17,
   "id": "ad3f13f7-6726-48d1-9172-b67ba05adaac",
   "metadata": {
    "tags": []
   },
   "outputs": [],
   "source": [
    "f = uproot.open(\"build/test.root\")"
   ]
  },
  {
   "cell_type": "code",
   "execution_count": 18,
   "id": "23e7fd34-029b-49db-ab30-c38ed800519a",
   "metadata": {
    "tags": []
   },
   "outputs": [
    {
     "data": {
      "text/plain": [
       "['hSampleCounter;1',\n",
       " 'hpt_charged;1',\n",
       " 'hphi_charged;1',\n",
       " 'heta_charged;1',\n",
       " 'hpt_pions_minus;1',\n",
       " 'hphi_pions_minus;1',\n",
       " 'hy_pions_minus;1',\n",
       " 'hpt_pions_plus;1',\n",
       " 'hphi_pions_plus;1',\n",
       " 'hy_pions_plus;1',\n",
       " 'hpt_protons_minus;1',\n",
       " 'hphi_protons_minus;1',\n",
       " 'hy_protons_minus;1',\n",
       " 'hpt_protons_plus;1',\n",
       " 'hphi_protons_plus;1',\n",
       " 'hy_protons_plus;1',\n",
       " 'hpt_lambda_plus;1',\n",
       " 'hphi_lambda_plus;1',\n",
       " 'hy_lambda_plus;1',\n",
       " 'hpt_lambda_minus;1',\n",
       " 'hphi_lambda_minus;1',\n",
       " 'hy_lambda_minus;1',\n",
       " 'hpt_sigma_plus;1',\n",
       " 'hphi_sigma_plus;1',\n",
       " 'hy_sigma_plus;1',\n",
       " 'hpt_sigma_minus;1',\n",
       " 'hphi_sigma_minus;1',\n",
       " 'hy_sigma_minus;1',\n",
       " 'hpt_omega;1',\n",
       " 'hphi_omega;1',\n",
       " 'hy_omega;1',\n",
       " 'ReQ_charged_9;1',\n",
       " 'ReQ_charged_1;1',\n",
       " 'ReQ_charged_2;1',\n",
       " 'ReQ_charged_3;1',\n",
       " 'ReQ_charged_4;1',\n",
       " 'ReQ_charged_5;1',\n",
       " 'ReQ_charged_6;1',\n",
       " 'ReQ_charged_7;1',\n",
       " 'ReQ_charged_8;1',\n",
       " 'ImQ_charged_9;1',\n",
       " 'ImQ_charged_1;1',\n",
       " 'ImQ_charged_2;1',\n",
       " 'ImQ_charged_3;1',\n",
       " 'ImQ_charged_4;1',\n",
       " 'ImQ_charged_5;1',\n",
       " 'ImQ_charged_6;1',\n",
       " 'ImQ_charged_7;1',\n",
       " 'ImQ_charged_8;1',\n",
       " 'ReQ_pions_minus_9;1',\n",
       " 'ReQ_pions_minus_1;1',\n",
       " 'ReQ_pions_minus_2;1',\n",
       " 'ReQ_pions_minus_3;1',\n",
       " 'ReQ_pions_minus_4;1',\n",
       " 'ReQ_pions_minus_5;1',\n",
       " 'ReQ_pions_minus_6;1',\n",
       " 'ReQ_pions_minus_7;1',\n",
       " 'ReQ_pions_minus_8;1',\n",
       " 'ImQ_pions_minus_9;1',\n",
       " 'ImQ_pions_minus_1;1',\n",
       " 'ImQ_pions_minus_2;1',\n",
       " 'ImQ_pions_minus_3;1',\n",
       " 'ImQ_pions_minus_4;1',\n",
       " 'ImQ_pions_minus_5;1',\n",
       " 'ImQ_pions_minus_6;1',\n",
       " 'ImQ_pions_minus_7;1',\n",
       " 'ImQ_pions_minus_8;1',\n",
       " 'ReQ_pions_plus_9;1',\n",
       " 'ReQ_pions_plus_1;1',\n",
       " 'ReQ_pions_plus_2;1',\n",
       " 'ReQ_pions_plus_3;1',\n",
       " 'ReQ_pions_plus_4;1',\n",
       " 'ReQ_pions_plus_5;1',\n",
       " 'ReQ_pions_plus_6;1',\n",
       " 'ReQ_pions_plus_7;1',\n",
       " 'ReQ_pions_plus_8;1',\n",
       " 'ImQ_pions_plus_9;1',\n",
       " 'ImQ_pions_plus_1;1',\n",
       " 'ImQ_pions_plus_2;1',\n",
       " 'ImQ_pions_plus_3;1',\n",
       " 'ImQ_pions_plus_4;1',\n",
       " 'ImQ_pions_plus_5;1',\n",
       " 'ImQ_pions_plus_6;1',\n",
       " 'ImQ_pions_plus_7;1',\n",
       " 'ImQ_pions_plus_8;1',\n",
       " 'ReQ_protons_minus_9;1',\n",
       " 'ReQ_protons_minus_1;1',\n",
       " 'ReQ_protons_minus_2;1',\n",
       " 'ReQ_protons_minus_3;1',\n",
       " 'ReQ_protons_minus_4;1',\n",
       " 'ReQ_protons_minus_5;1',\n",
       " 'ReQ_protons_minus_6;1',\n",
       " 'ReQ_protons_minus_7;1',\n",
       " 'ReQ_protons_minus_8;1',\n",
       " 'ImQ_protons_minus_9;1',\n",
       " 'ImQ_protons_minus_1;1',\n",
       " 'ImQ_protons_minus_2;1',\n",
       " 'ImQ_protons_minus_3;1',\n",
       " 'ImQ_protons_minus_4;1',\n",
       " 'ImQ_protons_minus_5;1',\n",
       " 'ImQ_protons_minus_6;1',\n",
       " 'ImQ_protons_minus_7;1',\n",
       " 'ImQ_protons_minus_8;1',\n",
       " 'ReQ_protons_plus_9;1',\n",
       " 'ReQ_protons_plus_1;1',\n",
       " 'ReQ_protons_plus_2;1',\n",
       " 'ReQ_protons_plus_3;1',\n",
       " 'ReQ_protons_plus_4;1',\n",
       " 'ReQ_protons_plus_5;1',\n",
       " 'ReQ_protons_plus_6;1',\n",
       " 'ReQ_protons_plus_7;1',\n",
       " 'ReQ_protons_plus_8;1',\n",
       " 'ImQ_protons_plus_9;1',\n",
       " 'ImQ_protons_plus_1;1',\n",
       " 'ImQ_protons_plus_2;1',\n",
       " 'ImQ_protons_plus_3;1',\n",
       " 'ImQ_protons_plus_4;1',\n",
       " 'ImQ_protons_plus_5;1',\n",
       " 'ImQ_protons_plus_6;1',\n",
       " 'ImQ_protons_plus_7;1',\n",
       " 'ImQ_protons_plus_8;1',\n",
       " 'ReQ_lambda_plus_9;1',\n",
       " 'ReQ_lambda_plus_1;1',\n",
       " 'ReQ_lambda_plus_2;1',\n",
       " 'ReQ_lambda_plus_3;1',\n",
       " 'ReQ_lambda_plus_4;1',\n",
       " 'ReQ_lambda_plus_5;1',\n",
       " 'ReQ_lambda_plus_6;1',\n",
       " 'ReQ_lambda_plus_7;1',\n",
       " 'ReQ_lambda_plus_8;1',\n",
       " 'ImQ_lambda_plus_9;1',\n",
       " 'ImQ_lambda_plus_1;1',\n",
       " 'ImQ_lambda_plus_2;1',\n",
       " 'ImQ_lambda_plus_3;1',\n",
       " 'ImQ_lambda_plus_4;1',\n",
       " 'ImQ_lambda_plus_5;1',\n",
       " 'ImQ_lambda_plus_6;1',\n",
       " 'ImQ_lambda_plus_7;1',\n",
       " 'ImQ_lambda_plus_8;1',\n",
       " 'ReQ_lambda_minus_9;1',\n",
       " 'ReQ_lambda_minus_1;1',\n",
       " 'ReQ_lambda_minus_2;1',\n",
       " 'ReQ_lambda_minus_3;1',\n",
       " 'ReQ_lambda_minus_4;1',\n",
       " 'ReQ_lambda_minus_5;1',\n",
       " 'ReQ_lambda_minus_6;1',\n",
       " 'ReQ_lambda_minus_7;1',\n",
       " 'ReQ_lambda_minus_8;1',\n",
       " 'ImQ_lambda_minus_9;1',\n",
       " 'ImQ_lambda_minus_1;1',\n",
       " 'ImQ_lambda_minus_2;1',\n",
       " 'ImQ_lambda_minus_3;1',\n",
       " 'ImQ_lambda_minus_4;1',\n",
       " 'ImQ_lambda_minus_5;1',\n",
       " 'ImQ_lambda_minus_6;1',\n",
       " 'ImQ_lambda_minus_7;1',\n",
       " 'ImQ_lambda_minus_8;1',\n",
       " 'ReQ_sigma_plus_9;1',\n",
       " 'ReQ_sigma_plus_1;1',\n",
       " 'ReQ_sigma_plus_2;1',\n",
       " 'ReQ_sigma_plus_3;1',\n",
       " 'ReQ_sigma_plus_4;1',\n",
       " 'ReQ_sigma_plus_5;1',\n",
       " 'ReQ_sigma_plus_6;1',\n",
       " 'ReQ_sigma_plus_7;1',\n",
       " 'ReQ_sigma_plus_8;1',\n",
       " 'ImQ_sigma_plus_9;1',\n",
       " 'ImQ_sigma_plus_1;1',\n",
       " 'ImQ_sigma_plus_2;1',\n",
       " 'ImQ_sigma_plus_3;1',\n",
       " 'ImQ_sigma_plus_4;1',\n",
       " 'ImQ_sigma_plus_5;1',\n",
       " 'ImQ_sigma_plus_6;1',\n",
       " 'ImQ_sigma_plus_7;1',\n",
       " 'ImQ_sigma_plus_8;1',\n",
       " 'ReQ_sigma_minus_9;1',\n",
       " 'ReQ_sigma_minus_1;1',\n",
       " 'ReQ_sigma_minus_2;1',\n",
       " 'ReQ_sigma_minus_3;1',\n",
       " 'ReQ_sigma_minus_4;1',\n",
       " 'ReQ_sigma_minus_5;1',\n",
       " 'ReQ_sigma_minus_6;1',\n",
       " 'ReQ_sigma_minus_7;1',\n",
       " 'ReQ_sigma_minus_8;1',\n",
       " 'ImQ_sigma_minus_9;1',\n",
       " 'ImQ_sigma_minus_1;1',\n",
       " 'ImQ_sigma_minus_2;1',\n",
       " 'ImQ_sigma_minus_3;1',\n",
       " 'ImQ_sigma_minus_4;1',\n",
       " 'ImQ_sigma_minus_5;1',\n",
       " 'ImQ_sigma_minus_6;1',\n",
       " 'ImQ_sigma_minus_7;1',\n",
       " 'ImQ_sigma_minus_8;1',\n",
       " 'ReQ_omega_9;1',\n",
       " 'ReQ_omega_1;1',\n",
       " 'ReQ_omega_2;1',\n",
       " 'ReQ_omega_3;1',\n",
       " 'ReQ_omega_4;1',\n",
       " 'ReQ_omega_5;1',\n",
       " 'ReQ_omega_6;1',\n",
       " 'ReQ_omega_7;1',\n",
       " 'ReQ_omega_8;1',\n",
       " 'ImQ_omega_9;1',\n",
       " 'ImQ_omega_1;1',\n",
       " 'ImQ_omega_2;1',\n",
       " 'ImQ_omega_3;1',\n",
       " 'ImQ_omega_4;1',\n",
       " 'ImQ_omega_5;1',\n",
       " 'ImQ_omega_6;1',\n",
       " 'ImQ_omega_7;1',\n",
       " 'ImQ_omega_8;1',\n",
       " 'ReQ_charged_10;1',\n",
       " 'ImQ_charged_10;1',\n",
       " 'ReQ_pions_minus_10;1',\n",
       " 'ImQ_pions_minus_10;1',\n",
       " 'ReQ_pions_plus_10;1',\n",
       " 'ImQ_pions_plus_10;1',\n",
       " 'ReQ_protons_minus_10;1',\n",
       " 'ImQ_protons_minus_10;1',\n",
       " 'ReQ_protons_plus_10;1',\n",
       " 'ImQ_protons_plus_10;1',\n",
       " 'ReQ_lambda_plus_10;1',\n",
       " 'ImQ_lambda_plus_10;1',\n",
       " 'ReQ_lambda_minus_10;1',\n",
       " 'ImQ_lambda_minus_10;1',\n",
       " 'ReQ_sigma_plus_10;1',\n",
       " 'ImQ_sigma_plus_10;1',\n",
       " 'ReQ_sigma_minus_10;1',\n",
       " 'ImQ_sigma_minus_10;1',\n",
       " 'ReQ_omega_10;1',\n",
       " 'ImQ_omega_10;1']"
      ]
     },
     "execution_count": 18,
     "metadata": {},
     "output_type": "execute_result"
    }
   ],
   "source": [
    "f.keys()"
   ]
  },
  {
   "cell_type": "code",
   "execution_count": 19,
   "id": "a947868e-6236-4e80-9de7-13ecbff90e4a",
   "metadata": {
    "tags": []
   },
   "outputs": [
    {
     "data": {
      "text/plain": [
       "array([100.])"
      ]
     },
     "execution_count": 19,
     "metadata": {},
     "output_type": "execute_result"
    }
   ],
   "source": [
    "f['hSampleCounter;1'].values()"
   ]
  },
  {
   "cell_type": "code",
   "execution_count": 10,
   "id": "b7be34c3-760c-4140-b31d-59d29e49b6d2",
   "metadata": {
    "tags": []
   },
   "outputs": [],
   "source": [
    "f.close()"
   ]
  },
  {
   "cell_type": "code",
   "execution_count": 23,
   "id": "fff0a544-0302-4b6b-ac36-6e796d7830a5",
   "metadata": {
    "tags": []
   },
   "outputs": [],
   "source": [
    "pT_pions = []\n",
    "pT_bin_center = []\n",
    "pT_bin_width = []\n",
    "with uproot.open(\"build/test.root\") as h:\n",
    "    pT_pions.append( h[\"hpt_pions_plus\"].values()/h[\"hSampleCounter\"].values())\n",
    "    pT_bin_center.append(h[\"hpt_pions_plus\"].axis().centers())\n",
    "    pT_bin_width.append(h[\"hpt_pions_plus\"].axis().widths())\n",
    "    "
   ]
  },
  {
   "cell_type": "code",
   "execution_count": 30,
   "id": "5b833d38-2a96-4ad1-aefd-a964facc22af",
   "metadata": {
    "tags": []
   },
   "outputs": [
    {
     "data": {
      "text/plain": [
       "Text(0.5, 0, '$p_T$ $\\\\left(GeV/c\\\\right)$')"
      ]
     },
     "execution_count": 30,
     "metadata": {},
     "output_type": "execute_result"
    },
    {
     "data": {
      "image/png": "[encoded data removed]",
      "text/plain": [
       "<Figure size 640x480 with 1 Axes>"
      ]
     },
     "metadata": {},
     "output_type": "display_data"
    }
   ],
   "source": [
    "plt.plot(pT_bin_center[0],pT_pions[0]/(2.*np.pi*pT_bin_width[0]),color = \"cornflowerblue\",lw=2)\n",
    "plt.ylabel(r\"$\\frac{1}{2\\pi p_T}\\frac{d^2N}{dp_Tdy}$ \" r\"$\\left(GeV/c\\right)^{-2}$\")\n",
    "plt.xlabel(r\"$p_T$ \" r\"$\\left(GeV/c\\right)$\")\n"
   ]
  },
  {
   "cell_type": "code",
   "execution_count": null,
   "id": "d45d4e9c-f9b3-4ffb-84c2-df01a5bb7507",
   "metadata": {},
   "outputs": [],
   "source": []
  }
 ],
 "metadata": {
  "kernelspec": {
   "display_name": "Python [conda env:.conda-wb2]",
   "language": "python",
   "name": "conda-env-.conda-wb2-py"
  },
  "language_info": {
   "codemirror_mode": {
    "name": "ipython",
    "version": 3
   },
   "file_extension": ".py",
   "mimetype": "text/x-python",
   "name": "python",
   "nbconvert_exporter": "python",
   "pygments_lexer": "ipython3",
   "version": "3.10.16"
  }
 },
 "nbformat": 4,
 "nbformat_minor": 5
}
